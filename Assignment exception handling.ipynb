{
 "cells": [
  {
   "cell_type": "markdown",
   "metadata": {},
   "source": [
    "1. Write a function to compute 5/0 and use try/except to catch the exceptions."
   ]
  },
  {
   "cell_type": "code",
   "execution_count": 10,
   "metadata": {},
   "outputs": [],
   "source": [
    "def catch_exception():\n",
    "    try:\n",
    "        result = 5/0\n",
    "    except Exception:\n",
    "        print('exception',Exception)"
   ]
  },
  {
   "cell_type": "code",
   "execution_count": 11,
   "metadata": {},
   "outputs": [
    {
     "name": "stdout",
     "output_type": "stream",
     "text": [
      "exception <class 'Exception'>\n"
     ]
    }
   ],
   "source": [
    "catch_exception()"
   ]
  },
  {
   "cell_type": "markdown",
   "metadata": {},
   "source": [
    "2. Implement a Python program to generate all sentences where subject is in\n",
    "[\"Americans\", \"Indians\"] and verb is in [\"Play\", \"watch\"] and the object is in\n",
    "[\"Baseball\",\"cricket\"].<br>\n",
    "Hint: Subject,Verb and Object should be declared in the program as shown below.<br>\n",
    "subjects=[\"Americans \",\"Indians\"]<br>\n",
    "verbs=[\"play\",\"watch\"]<br>\n",
    "objects=[\"Baseball\",\"Cricket\"]<br>\n",
    "<br>\n",
    "Output should come as below:<br>\n",
    "Americans play Baseball.<br>\n",
    "Americans play Cricket.<br>\n",
    "Americans watch Baseball.<br>\n",
    "Americans watch Cricket.<br>\n",
    "Indians play Baseball.<br>\n",
    "Indians play Cricket.<br>\n",
    "Indians watch Baseball.<br>\n",
    "Indians watch Cricket.<br>\n"
   ]
  },
  {
   "cell_type": "code",
   "execution_count": 12,
   "metadata": {},
   "outputs": [],
   "source": [
    "subjects=[\"Americans \",\"Indians\"]\n",
    "verbs=[\"play\",\"watch\"]\n",
    "objects=[\"Baseball\",\"Cricket\"]"
   ]
  },
  {
   "cell_type": "code",
   "execution_count": 13,
   "metadata": {},
   "outputs": [
    {
     "name": "stdout",
     "output_type": "stream",
     "text": [
      "Americans  play Baseball\n",
      "Americans  play Cricket\n",
      "Americans  watch Baseball\n",
      "Americans  watch Cricket\n",
      "Indians play Baseball\n",
      "Indians play Cricket\n",
      "Indians watch Baseball\n",
      "Indians watch Cricket\n"
     ]
    }
   ],
   "source": [
    "for subject in subjects:\n",
    "    for verb in verbs:\n",
    "        for obj in objects:\n",
    "            print(subject,verb,obj)"
   ]
  },
  {
   "cell_type": "code",
   "execution_count": null,
   "metadata": {},
   "outputs": [],
   "source": []
  }
 ],
 "metadata": {
  "kernelspec": {
   "display_name": "Python 3",
   "language": "python",
   "name": "python3"
  },
  "language_info": {
   "codemirror_mode": {
    "name": "ipython",
    "version": 3
   },
   "file_extension": ".py",
   "mimetype": "text/x-python",
   "name": "python",
   "nbconvert_exporter": "python",
   "pygments_lexer": "ipython3",
   "version": "3.8.5"
  }
 },
 "nbformat": 4,
 "nbformat_minor": 4
}
